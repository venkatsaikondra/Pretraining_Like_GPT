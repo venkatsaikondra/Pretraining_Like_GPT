{
 "cells": [
  {
   "cell_type": "code",
   "id": "initial_id",
   "metadata": {
    "collapsed": true,
    "ExecuteTime": {
     "end_time": "2025-10-28T18:21:56.847965Z",
     "start_time": "2025-10-28T18:21:56.115537Z"
    }
   },
   "source": [
    "import kagglehub\n",
    "\n",
    "# Download latest version\n",
    "path = kagglehub.dataset_download(\"rakibulhasanshaon69/the-verdict-txt\")\n",
    "\n",
    "print(\"Path to dataset files:\", path)"
   ],
   "outputs": [
    {
     "name": "stderr",
     "output_type": "stream",
     "text": [
      "/Users/kpvarma/PycharmProjects/Pretraining_Like_GPT/.venv/lib/python3.13/site-packages/tqdm/auto.py:21: TqdmWarning: IProgress not found. Please update jupyter and ipywidgets. See https://ipywidgets.readthedocs.io/en/stable/user_install.html\n",
      "  from .autonotebook import tqdm as notebook_tqdm\n"
     ]
    },
    {
     "name": "stdout",
     "output_type": "stream",
     "text": [
      "Path to dataset files: /Users/kpvarma/.cache/kagglehub/datasets/rakibulhasanshaon69/the-verdict-txt/versions/1\n"
     ]
    }
   ],
   "execution_count": 2
  },
  {
   "metadata": {},
   "cell_type": "markdown",
   "source": [
    " 1.DATA PREPROCESSING\n",
    "\n"
   ],
   "id": "8a9168da217539ec"
  },
  {
   "metadata": {
    "ExecuteTime": {
     "end_time": "2025-10-28T18:43:10.508945Z",
     "start_time": "2025-10-28T18:43:10.503006Z"
    }
   },
   "cell_type": "code",
   "source": [
    "with open('the-verdict.txt','r',encoding='utf-8') as f:\n",
    "    text=f.read()"
   ],
   "id": "263143e5575fff6e",
   "outputs": [],
   "execution_count": 6
  },
  {
   "metadata": {
    "ExecuteTime": {
     "end_time": "2025-10-28T18:44:13.702900Z",
     "start_time": "2025-10-28T18:44:13.695178Z"
    }
   },
   "cell_type": "code",
   "source": "print(\"length of dataset as characters=\",len(text))",
   "id": "c33692f86ad1f22b",
   "outputs": [
    {
     "name": "stdout",
     "output_type": "stream",
     "text": [
      "length of dataset as characters= 20479\n"
     ]
    }
   ],
   "execution_count": 7
  },
  {
   "metadata": {
    "ExecuteTime": {
     "end_time": "2025-10-28T18:44:59.163360Z",
     "start_time": "2025-10-28T18:44:59.154822Z"
    }
   },
   "cell_type": "code",
   "source": [
    "#printing first 100 characters\n",
    "print(text[:100])"
   ],
   "id": "7c2bdfd506bce86c",
   "outputs": [
    {
     "name": "stdout",
     "output_type": "stream",
     "text": [
      "I HAD always thought Jack Gisburn rather a cheap genius--though a good fellow enough--so it was no g\n"
     ]
    }
   ],
   "execution_count": 8
  },
  {
   "metadata": {
    "ExecuteTime": {
     "end_time": "2025-10-28T18:48:47.919097Z",
     "start_time": "2025-10-28T18:48:47.910610Z"
    }
   },
   "cell_type": "code",
   "source": "print(\"No of words in text=\",len(text.split()))",
   "id": "e85fe0d21cd29314",
   "outputs": [
    {
     "name": "stdout",
     "output_type": "stream",
     "text": [
      "No of words in text= 3634\n"
     ]
    }
   ],
   "execution_count": 9
  },
  {
   "metadata": {},
   "cell_type": "code",
   "outputs": [],
   "execution_count": null,
   "source": "",
   "id": "5e8cf8dd74e91274"
  },
  {
   "metadata": {},
   "cell_type": "markdown",
   "source": "2.TOKENIZATION",
   "id": "3cc020d778dae3e9"
  },
  {
   "metadata": {},
   "cell_type": "code",
   "outputs": [],
   "execution_count": null,
   "source": "",
   "id": "77e9da6dd7e7804e"
  }
 ],
 "metadata": {
  "kernelspec": {
   "display_name": "Python 3",
   "language": "python",
   "name": "python3"
  },
  "language_info": {
   "codemirror_mode": {
    "name": "ipython",
    "version": 2
   },
   "file_extension": ".py",
   "mimetype": "text/x-python",
   "name": "python",
   "nbconvert_exporter": "python",
   "pygments_lexer": "ipython2",
   "version": "2.7.6"
  }
 },
 "nbformat": 4,
 "nbformat_minor": 5
}
